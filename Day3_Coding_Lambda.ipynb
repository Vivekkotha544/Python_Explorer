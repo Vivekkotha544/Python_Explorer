{
  "nbformat": 4,
  "nbformat_minor": 0,
  "metadata": {
    "colab": {
      "provenance": [],
      "include_colab_link": true
    },
    "kernelspec": {
      "name": "python3",
      "display_name": "Python 3"
    },
    "language_info": {
      "name": "python"
    }
  },
  "cells": [
    {
      "cell_type": "markdown",
      "metadata": {
        "id": "view-in-github",
        "colab_type": "text"
      },
      "source": [
        "<a href=\"https://colab.research.google.com/github/Vivekkotha544/Python_Explorer/blob/main/Day3_Coding_Lambda.ipynb\" target=\"_parent\"><img src=\"https://colab.research.google.com/assets/colab-badge.svg\" alt=\"Open In Colab\"/></a>"
      ]
    },
    {
      "cell_type": "markdown",
      "source": [
        "##Write a python program to create a lambda funciton that adds 15 to a given number\n",
        "\n"
      ],
      "metadata": {
        "id": "Cu2MTBpAH98v"
      }
    },
    {
      "cell_type": "code",
      "source": [
        "# Create a lambda function to add 15 to a given number\n",
        "add_15 = lambda x: x + 15\n",
        "\n",
        "# Test the lambda function with a sample number\n",
        "sample_number = 30\n",
        "result = add_15(sample_number)\n",
        "\n",
        "# Print the result\n",
        "print(f\"The result after adding 15 to {sample_number} is: {result}\")\n"
      ],
      "metadata": {
        "id": "QBZKf4hYIYh-",
        "colab": {
          "base_uri": "https://localhost:8080/"
        },
        "outputId": "25320407-0274-47a6-90e3-d0c4d22e17ad"
      },
      "execution_count": 1,
      "outputs": [
        {
          "output_type": "stream",
          "name": "stdout",
          "text": [
            "The result after adding 15 to 30 is: 45\n"
          ]
        }
      ]
    },
    {
      "cell_type": "markdown",
      "source": [
        "## Write a funciton to create a prime number generator"
      ],
      "metadata": {
        "id": "QvheE-ZfIJFc"
      }
    },
    {
      "cell_type": "code",
      "source": [
        "def prime_generator():\n",
        "    \"\"\"Generate prime numbers indefinitely.\"\"\"\n",
        "    num = 2\n",
        "    while True:\n",
        "        is_prime = all(num % i != 0 for i in range(2, int(num**0.5) + 1))\n",
        "        if is_prime:\n",
        "            yield num\n",
        "        num += 1\n",
        "\n",
        "# Example usage:\n",
        "# Generate and print the first 5 prime numbers\n",
        "prime_gen = prime_generator()\n",
        "for _ in range(5):\n",
        "    print(next(prime_gen))\n"
      ],
      "metadata": {
        "id": "z19r-AaMIIlC",
        "colab": {
          "base_uri": "https://localhost:8080/"
        },
        "outputId": "8eb2b52b-ac72-4087-e4bc-0baba491768f"
      },
      "execution_count": 2,
      "outputs": [
        {
          "output_type": "stream",
          "name": "stdout",
          "text": [
            "2\n",
            "3\n",
            "5\n",
            "7\n",
            "11\n"
          ]
        }
      ]
    },
    {
      "cell_type": "markdown",
      "source": [
        "## Create a lambda funtion to filter out the even numebr from a given list"
      ],
      "metadata": {
        "id": "fgG1qcgaIZKL"
      }
    },
    {
      "cell_type": "code",
      "source": [
        "# Sample list of numbers\n",
        "numbers = [1, 2, 3, 4, 5, 6, 7, 8, 9, 10]\n",
        "\n",
        "# Lambda function to filter out even numbers\n",
        "filter_even = lambda x: x % 2 != 0\n",
        "\n",
        "# Use filter with the lambda function\n",
        "filtered_numbers = list(filter(filter_even, numbers))\n",
        "\n",
        "# Print the result\n",
        "print(\"Original List:\", numbers)\n",
        "print(\"Filtered Even Numbers:\", filtered_numbers)\n"
      ],
      "metadata": {
        "id": "FWQS-SgjImHw",
        "colab": {
          "base_uri": "https://localhost:8080/"
        },
        "outputId": "bfa8229c-77fd-4b73-8e80-d9a300b51395"
      },
      "execution_count": 3,
      "outputs": [
        {
          "output_type": "stream",
          "name": "stdout",
          "text": [
            "Original List: [1, 2, 3, 4, 5, 6, 7, 8, 9, 10]\n",
            "Filtered Even Numbers: [1, 3, 5, 7, 9]\n"
          ]
        }
      ]
    },
    {
      "cell_type": "markdown",
      "source": [
        "## Create a funciton for prime numebr generator"
      ],
      "metadata": {
        "id": "c1H7iXqDIuJI"
      }
    },
    {
      "cell_type": "code",
      "source": [
        "def is_prime(num):\n",
        "    \"\"\"Check if a number is prime.\"\"\"\n",
        "    if num < 2:\n",
        "        return False\n",
        "    for i in range(2, int(num**0.5) + 1):\n",
        "        if num % i == 0:\n",
        "            return False\n",
        "    return True\n",
        "\n",
        "def prime_generator(limit):\n",
        "    \"\"\"Generate prime numbers up to a given limit.\"\"\"\n",
        "    primes = []\n",
        "    num = 2\n",
        "    while num < limit:\n",
        "        if is_prime(num):\n",
        "            primes.append(num)\n",
        "        num += 1\n",
        "    return primes\n",
        "\n",
        "# Example usage:\n",
        "# Generate and print prime numbers up to 20\n",
        "limit = 20\n",
        "result = prime_generator(limit)\n",
        "print(f\"Prime numbers up to {limit}: {result}\")\n"
      ],
      "metadata": {
        "id": "B6zt1ESKI2T4",
        "colab": {
          "base_uri": "https://localhost:8080/"
        },
        "outputId": "f5f4be68-7ab7-4835-b6d7-42b313f29901"
      },
      "execution_count": 5,
      "outputs": [
        {
          "output_type": "stream",
          "name": "stdout",
          "text": [
            "Prime numbers up to 20: [2, 3, 5, 7, 11, 13, 17, 19]\n"
          ]
        }
      ]
    },
    {
      "cell_type": "markdown",
      "source": [
        "## create funciton for fibbonacci series generator"
      ],
      "metadata": {
        "id": "NMp0TAZaI18z"
      }
    },
    {
      "cell_type": "code",
      "source": [
        "def fibonacci_generator(limit):\n",
        "    \"\"\"Generate Fibonacci series up to a given limit.\"\"\"\n",
        "    fib_series = [0, 1]\n",
        "    while fib_series[-1] + fib_series[-2] <= limit:\n",
        "        fib_series.append(fib_series[-1] + fib_series[-2])\n",
        "    return fib_series\n",
        "\n",
        "# Example usage:\n",
        "# Generate and print Fibonacci series up to 50\n",
        "limit = 50\n",
        "result = fibonacci_generator(limit)\n",
        "print(f\"Fibonacci series up to {limit}: {result}\")\n"
      ],
      "metadata": {
        "id": "dpa2ABE8JCnt",
        "colab": {
          "base_uri": "https://localhost:8080/"
        },
        "outputId": "c2d86215-8e42-4fa6-e991-c9c7596aef60"
      },
      "execution_count": 4,
      "outputs": [
        {
          "output_type": "stream",
          "name": "stdout",
          "text": [
            "Fibonacci series up to 50: [0, 1, 1, 2, 3, 5, 8, 13, 21, 34]\n"
          ]
        }
      ]
    }
  ]
}