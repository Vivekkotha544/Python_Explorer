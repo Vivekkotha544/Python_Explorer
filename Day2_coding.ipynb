{
  "nbformat": 4,
  "nbformat_minor": 0,
  "metadata": {
    "colab": {
      "provenance": [],
      "include_colab_link": true
    },
    "kernelspec": {
      "name": "python3",
      "display_name": "Python 3"
    },
    "language_info": {
      "name": "python"
    }
  },
  "cells": [
    {
      "cell_type": "markdown",
      "metadata": {
        "id": "view-in-github",
        "colab_type": "text"
      },
      "source": [
        "<a href=\"https://colab.research.google.com/github/Vivekkotha544/Python_Explorer/blob/main/Day2_coding.ipynb\" target=\"_parent\"><img src=\"https://colab.research.google.com/assets/colab-badge.svg\" alt=\"Open In Colab\"/></a>"
      ]
    },
    {
      "cell_type": "markdown",
      "source": [
        "## 1.Difference between the list and tuple?"
      ],
      "metadata": {
        "id": "HN6tCq60j2mQ"
      }
    },
    {
      "cell_type": "code",
      "source": [
        "#In Python, both lists and tuples are used to store collections of items, but they have some key differences\n",
        "#List: Lists are mutable, which means you can change their content by adding or removing elements, or by modifying existing elements.\n",
        "my_list = [1, 2, 3]\n",
        "\n"
      ],
      "metadata": {
        "id": "Cw8ffkhMk6RQ"
      },
      "execution_count": 13,
      "outputs": []
    },
    {
      "cell_type": "code",
      "source": [
        "#Tuple: Tuples, on the other hand, are immutable. Once you create a tuple, you cannot change its content.\n",
        "#You can't add, remove, or modify elements in a tuple.\n",
        "my_tuple = (1, 2, 3)\n"
      ],
      "metadata": {
        "id": "154qciUhB4A5"
      },
      "execution_count": 14,
      "outputs": []
    },
    {
      "cell_type": "code",
      "source": [
        "# List example\n",
        "my_list = [1, 2, 3]\n",
        "my_list.append(4)\n",
        "print(my_list)  # Output: [1, 2, 3, 4]\n",
        "\n",
        "# Tuple example\n",
        "my_tuple = (1, 2, 3)\n",
        "# The following line would raise an error since tuples are immutable\n",
        "# my_tuple.append(4)\n"
      ],
      "metadata": {
        "colab": {
          "base_uri": "https://localhost:8080/"
        },
        "id": "WibHlbkECBd2",
        "outputId": "8b93dba0-f83e-4ffe-c210-42777924bc2f"
      },
      "execution_count": 15,
      "outputs": [
        {
          "output_type": "stream",
          "name": "stdout",
          "text": [
            "[1, 2, 3, 4]\n"
          ]
        }
      ]
    },
    {
      "cell_type": "markdown",
      "source": [
        "## 2.How list is different from an array"
      ],
      "metadata": {
        "id": "uWhJG7hzk6Ov"
      }
    },
    {
      "cell_type": "code",
      "source": [
        "# Importing required libraries\n",
        "import numpy as np\n",
        "\n",
        "# Creating a list\n",
        "my_list = [1, 2, 3, 4, 5]\n",
        "\n",
        "# Creating a NumPy array from a list\n",
        "my_array = np.array(my_list)\n",
        "\n",
        "# Adding elements to the list\n",
        "my_list.append(6)\n",
        "print(\"List after append:\", my_list)\n",
        "\n",
        "# Adding elements to the array\n",
        "# This will result in an error as NumPy arrays have a fixed size\n",
        "# my_array.append(6)\n",
        "\n",
        "# Concatenating two lists\n",
        "list1 = [1, 2, 3]\n",
        "list2 = [4, 5, 6]\n",
        "concatenated_list = list1 + list2\n",
        "print(\"Concatenated List:\", concatenated_list)\n",
        "\n",
        "# Concatenating two arrays\n",
        "array1 = np.array([1, 2, 3])\n",
        "array2 = np.array([4, 5, 6])\n",
        "concatenated_array = np.concatenate((array1, array2))\n",
        "print(\"Concatenated Array:\", concatenated_array)\n",
        "\n",
        "# Multiplying elements in a list\n",
        "multiplied_list = my_list * 3\n",
        "print(\"Multiplied List:\", multiplied_list)\n",
        "\n",
        "# Multiplying elements in an array\n",
        "multiplied_array = my_array * 3\n",
        "print(\"Multiplied Array:\", multiplied_array)\n",
        "\n",
        "# Accessing elements in a list\n",
        "list_element = my_list[2]\n",
        "print(\"Element at index 2 in list:\", list_element)\n",
        "\n",
        "# Accessing elements in an array\n",
        "array_element = my_array[2]\n",
        "print(\"Element at index 2 in array:\", array_element)\n",
        "\n",
        "# Slicing a list\n",
        "sliced_list = my_list[1:4]\n",
        "print(\"Sliced List:\", sliced_list)\n",
        "\n",
        "# Slicing an array\n",
        "sliced_array = my_array[1:4]\n",
        "print(\"Sliced Array:\", sliced_array)\n"
      ],
      "metadata": {
        "id": "MowyCcINo4Mn",
        "colab": {
          "base_uri": "https://localhost:8080/"
        },
        "outputId": "184d5a23-0bd5-485f-a97f-0b0a562fedff"
      },
      "execution_count": 16,
      "outputs": [
        {
          "output_type": "stream",
          "name": "stdout",
          "text": [
            "List after append: [1, 2, 3, 4, 5, 6]\n",
            "Concatenated List: [1, 2, 3, 4, 5, 6]\n",
            "Concatenated Array: [1 2 3 4 5 6]\n",
            "Multiplied List: [1, 2, 3, 4, 5, 6, 1, 2, 3, 4, 5, 6, 1, 2, 3, 4, 5, 6]\n",
            "Multiplied Array: [ 3  6  9 12 15]\n",
            "Element at index 2 in list: 3\n",
            "Element at index 2 in array: 3\n",
            "Sliced List: [2, 3, 4]\n",
            "Sliced Array: [2 3 4]\n"
          ]
        }
      ]
    },
    {
      "cell_type": "markdown",
      "source": [],
      "metadata": {
        "id": "1uPEIFbxmQwt"
      }
    },
    {
      "cell_type": "markdown",
      "source": [
        "## 3. Use the python list append(),copy(), clear, count, extends(), index(), insert(), pop(), reverse(), sort(), min(), max(),and sum()"
      ],
      "metadata": {
        "id": "_0Rn7JQSk6M1"
      }
    },
    {
      "cell_type": "code",
      "source": [
        "# Creating a list\n",
        "my_data_list = [5, 12, \"cat\", 88, 6.42, 200]\n",
        "\n",
        "# Appending element to the list\n",
        "my_data_list.append(25)\n",
        "print(\"After appending:\", my_data_list)\n",
        "\n",
        "# Copying the list\n",
        "copied_data_list = my_data_list.copy()\n",
        "print(\"Copied List:\", copied_data_list)\n",
        "\n",
        "# Removing all elements using the clear function\n",
        "my_data_list.clear()\n",
        "print(\"After clearing:\", my_data_list)\n",
        "\n",
        "# Count() function results in the number of occurrences of an element in the list\n",
        "counted_occurrences = [2, 2, 6, 14, 4, 16, 8, 8, 18, 10]\n",
        "count_result = counted_occurrences.count(8)\n",
        "print(\"Count of 8:\", count_result)\n",
        "\n",
        "# Extend() function appends the elements of another list to the end of the current list\n",
        "extension_data = [\"apple\", 12, 7]\n",
        "counted_occurrences.extend(extension_data)\n",
        "print(\"After extending:\", counted_occurrences)\n",
        "\n",
        "# Index() returns the index of the specified value\n",
        "index_result = counted_occurrences.index(7)\n",
        "print(\"Index of 7:\", index_result)\n",
        "\n",
        "# Insert() function inserts an element at a specified position\n",
        "counted_occurrences.insert(3, 6)\n",
        "print(\"After inserting:\", counted_occurrences)\n",
        "\n",
        "# Pop() removes and returns the element at the specified index\n",
        "popped_element = counted_occurrences.pop(1)\n",
        "print(\"Popped Element:\", popped_element)\n",
        "print(\"After popping:\", counted_occurrences)\n",
        "\n",
        "# Reverse() function reverses the list\n",
        "counted_occurrences.reverse()\n",
        "print(\"After reversing:\", counted_occurrences)\n",
        "\n",
        "# Sort() function sorts the elements of the list in ascending order\n",
        "sorting_values = [32, 72, 42, 5, 19, 8, 13, 63]\n",
        "sorting_values.sort()\n",
        "print(\"After sorting:\", sorting_values)\n",
        "\n",
        "# Min() returns the minimum value in the list\n",
        "minimum_value = min(sorting_values)\n",
        "print(\"Minimum Value:\", minimum_value)\n",
        "\n",
        "# Max() returns the maximum value in the list\n",
        "maximum_value = max(sorting_values)\n",
        "print(\"Maximum Value:\", maximum_value)\n",
        "\n",
        "# Sum() returns the sum of all elements in the list\n",
        "sum_of_elements = sum(sorting_values)\n",
        "print(\"Sum of Elements:\", sum_of_elements)\n"
      ],
      "metadata": {
        "colab": {
          "base_uri": "https://localhost:8080/"
        },
        "id": "SBgq9UxEgpwp",
        "outputId": "2b25ea65-1600-4a02-ae4f-71ae6901577e"
      },
      "execution_count": 17,
      "outputs": [
        {
          "output_type": "stream",
          "name": "stdout",
          "text": [
            "After appending: [5, 12, 'cat', 88, 6.42, 200, 25]\n",
            "Copied List: [5, 12, 'cat', 88, 6.42, 200, 25]\n",
            "After clearing: []\n",
            "Count of 8: 2\n",
            "After extending: [2, 2, 6, 14, 4, 16, 8, 8, 18, 10, 'apple', 12, 7]\n",
            "Index of 7: 12\n",
            "After inserting: [2, 2, 6, 6, 14, 4, 16, 8, 8, 18, 10, 'apple', 12, 7]\n",
            "Popped Element: 2\n",
            "After popping: [2, 6, 6, 14, 4, 16, 8, 8, 18, 10, 'apple', 12, 7]\n",
            "After reversing: [7, 12, 'apple', 10, 18, 8, 8, 16, 4, 14, 6, 6, 2]\n",
            "After sorting: [5, 8, 13, 19, 32, 42, 63, 72]\n",
            "Minimum Value: 5\n",
            "Maximum Value: 72\n",
            "Sum of Elements: 254\n"
          ]
        }
      ]
    },
    {
      "cell_type": "markdown",
      "source": [
        "## 4, How would you divide the list into two parts?"
      ],
      "metadata": {
        "id": "W9xfjUWak6J_"
      }
    },
    {
      "cell_type": "code",
      "source": [
        "# Dividing a list using slicing\n",
        "my_values = [10, 30, 50, 20, 60, 70, 80, 30, 20, 50]\n",
        "\n",
        "# Dividing the list into two parts\n",
        "half_length = len(my_values) // 2\n",
        "first_half = my_values[:half_length]\n",
        "second_half = my_values[half_length:]\n",
        "selected_range = my_values[2:8]\n",
        "\n",
        "print(\"Original List:\", my_values)\n",
        "print(\"First Half:\", first_half)\n",
        "print(\"Second Half:\", second_half)\n",
        "print(\"Selected Range:\", selected_range)\n"
      ],
      "metadata": {
        "colab": {
          "base_uri": "https://localhost:8080/"
        },
        "id": "Zy5yqEp9gtVI",
        "outputId": "a4f7dbf1-5c37-488f-c589-ad67e6debece"
      },
      "execution_count": 18,
      "outputs": [
        {
          "output_type": "stream",
          "name": "stdout",
          "text": [
            "Original List: [10, 30, 50, 20, 60, 70, 80, 30, 20, 50]\n",
            "First Half: [10, 30, 50, 20, 60]\n",
            "Second Half: [70, 80, 30, 20, 50]\n",
            "Selected Range: [50, 20, 60, 70, 80, 30]\n"
          ]
        }
      ]
    },
    {
      "cell_type": "markdown",
      "source": [
        "## 5. how to filter the multiple of 3 from a given list and them remove the odd number from the new filtered list.\n",
        "Eg A = [1,2,3,4,5,6,7,8,9,21,23,24]\n",
        "Filter_lsit = [3,6,9,21,24]\n",
        "output_list = [6,24]"
      ],
      "metadata": {
        "id": "Qb1mVGfnk6G5"
      }
    },
    {
      "cell_type": "code",
      "source": [
        "# Original list\n",
        "original_list = [1, 2, 3, 4, 5, 6, 7, 8, 9, 21, 23, 24]\n",
        "\n",
        "# Filtering the multiples of 3 from the original list\n",
        "multiples_of_3 = [num for num in original_list if num % 3 == 0]\n",
        "\n",
        "# Removing odd numbers from the filtered multiples of 3\n",
        "even_multiples_of_3 = [num for num in multiples_of_3 if num % 2 == 0]\n",
        "\n",
        "print(\"Original List:\", original_list)\n",
        "print(\"Multiples of 3:\", multiples_of_3)\n",
        "print(\"Even Multiples of 3:\", even_multiples_of_3)\n"
      ],
      "metadata": {
        "colab": {
          "base_uri": "https://localhost:8080/"
        },
        "id": "9PCcXi-ghJKY",
        "outputId": "c58e35c9-add5-4df1-b2f1-b884a87d275e"
      },
      "execution_count": 19,
      "outputs": [
        {
          "output_type": "stream",
          "name": "stdout",
          "text": [
            "Original List: [1, 2, 3, 4, 5, 6, 7, 8, 9, 21, 23, 24]\n",
            "Multiples of 3: [3, 6, 9, 21, 24]\n",
            "Even Multiples of 3: [6, 24]\n"
          ]
        }
      ]
    },
    {
      "cell_type": "markdown",
      "source": [
        "## 6. How you can access keys and values simultaneously and update its value"
      ],
      "metadata": {
        "id": "auhYyjixk6FD"
      }
    },
    {
      "cell_type": "code",
      "source": [
        "# Original dictionary\n",
        "my_dict = {'alpha': 24, 'beta': 15, 'gamma': 33, 'delta': 90}\n",
        "\n",
        "# Accessing keys and values simultaneously using items()\n",
        "for my_key, my_value in my_dict.items():\n",
        "    print(\"Key:\", my_key, \"Value:\", my_value)\n",
        "\n",
        "# Updating the value of a specific key\n",
        "selected_key = 'beta'\n",
        "updated_value = 29\n",
        "\n",
        "# Check if the key exists before updating\n",
        "if selected_key in my_dict:\n",
        "    my_dict[selected_key] = updated_value\n",
        "    print(\"Key found in the dictionary.\")\n",
        "else:\n",
        "    print(\"Key not found in the dictionary.\")\n",
        "print(\"Updated Dictionary:\", my_dict)\n"
      ],
      "metadata": {
        "colab": {
          "base_uri": "https://localhost:8080/"
        },
        "id": "tokrNYaNhMQ4",
        "outputId": "78cead85-ca8c-4760-83d0-d03b19c3e1c2"
      },
      "execution_count": 20,
      "outputs": [
        {
          "output_type": "stream",
          "name": "stdout",
          "text": [
            "Key: alpha Value: 24\n",
            "Key: beta Value: 15\n",
            "Key: gamma Value: 33\n",
            "Key: delta Value: 90\n",
            "Key found in the dictionary.\n",
            "Updated Dictionary: {'alpha': 24, 'beta': 29, 'gamma': 33, 'delta': 90}\n"
          ]
        }
      ]
    },
    {
      "cell_type": "markdown",
      "source": [
        "## 7. Write python program to join, merge, concatente the two dictionaries..\n"
      ],
      "metadata": {
        "id": "vV00n0awk5_G"
      }
    },
    {
      "cell_type": "code",
      "source": [
        "# Original dictionaries\n",
        "first_dict = {'apple': 4, 'banana': 6}\n",
        "second_dict = {'orange': 37, 'grape': 24}\n",
        "\n",
        "# Merging or joining or concatenating dictionaries\n",
        "merged_dict = first_dict.copy()\n",
        "merged_dict.update(second_dict)\n",
        "\n",
        "print(\"Original Dictionary 1:\", first_dict)\n",
        "print(\"Original Dictionary 2:\", second_dict)\n",
        "print(\"Merged Dictionary:\", merged_dict)\n"
      ],
      "metadata": {
        "colab": {
          "base_uri": "https://localhost:8080/"
        },
        "id": "uAoaKEMriiBW",
        "outputId": "1aae3923-e98f-4dab-9610-7fc62f74ab0d"
      },
      "execution_count": 21,
      "outputs": [
        {
          "output_type": "stream",
          "name": "stdout",
          "text": [
            "Original Dictionary 1: {'apple': 4, 'banana': 6}\n",
            "Original Dictionary 2: {'orange': 37, 'grape': 24}\n",
            "Merged Dictionary: {'apple': 4, 'banana': 6, 'orange': 37, 'grape': 24}\n"
          ]
        }
      ]
    },
    {
      "cell_type": "markdown",
      "source": [
        "## 8. How would you check a specific keys from the dictionary??\n"
      ],
      "metadata": {
        "id": "Z_7dpypWnQ-z"
      }
    },
    {
      "cell_type": "code",
      "source": [
        "# Example dictionary\n",
        "my_dict = {'apple': 10, 'banana': 20, 'cherry': 30, 'date': 40}\n",
        "\n",
        "# Checking if a specific key is present in the dictionary\n",
        "searched_key = 'banana'\n",
        "\n",
        "if searched_key in my_dict:\n",
        "    print(\"The key is present, and its value is:\", {my_dict[searched_key]})\n",
        "else:\n",
        "    print(\"The key is not present in the dictionary.\")\n"
      ],
      "metadata": {
        "colab": {
          "base_uri": "https://localhost:8080/"
        },
        "id": "66rl5vK5ipjT",
        "outputId": "309805e1-2990-4d37-f726-b3b83fa989c9"
      },
      "execution_count": 22,
      "outputs": [
        {
          "output_type": "stream",
          "name": "stdout",
          "text": [
            "The key is present, and its value is: {20}\n"
          ]
        }
      ]
    },
    {
      "cell_type": "markdown",
      "source": [
        "## 9. write a python program to find the unique vowel present in the sentence"
      ],
      "metadata": {
        "id": "EjxeB4ntnirH"
      }
    },
    {
      "cell_type": "code",
      "source": [
        "def find_unique_vowels(input_string):\n",
        "    vowels_set = set(\"aeiouAEIOU\")\n",
        "    unique_vowels_set = set()\n",
        "\n",
        "    for character in input_string:\n",
        "        if character in vowels_set:\n",
        "            unique_vowels_set.add(character)\n",
        "\n",
        "    return sorted(list(unique_vowels_set))\n",
        "\n",
        "my_sentence = \"Hello World! Enjoy your time here.\"\n",
        "resulting_vowels = find_unique_vowels(my_sentence)\n",
        "\n",
        "print(\"Original Sentence:\", my_sentence)\n",
        "print(\"Unique Vowels in the Sentence:\", resulting_vowels)\n"
      ],
      "metadata": {
        "colab": {
          "base_uri": "https://localhost:8080/"
        },
        "id": "eRG_oVbWi50v",
        "outputId": "ee938052-f7aa-40c8-b68b-51e5bec06188"
      },
      "execution_count": 23,
      "outputs": [
        {
          "output_type": "stream",
          "name": "stdout",
          "text": [
            "Original Sentence: Hello World! Enjoy your time here.\n",
            "Unique Vowels in the Sentence: ['E', 'e', 'i', 'o', 'u']\n"
          ]
        }
      ]
    },
    {
      "cell_type": "markdown",
      "source": [
        "## 10. We know that tuple is immutable, do any thing and add element to the tuples."
      ],
      "metadata": {
        "id": "B1VBImcfns6V"
      }
    },
    {
      "cell_type": "code",
      "source": [
        "# Through concatenation\n",
        "first_tuple = (1, 2, 3)\n",
        "second_tuple = (4, 5, 6)\n",
        "combined_tuple = first_tuple + second_tuple\n",
        "print(combined_tuple)\n",
        "\n",
        "# Converting to list, adding elements, and converting back to tuple\n",
        "original_tuple = (1, 2, 3, 9, 4)\n",
        "tuple_list = list(original_tuple)\n",
        "tuple_list.append(6)\n",
        "updated_tuple = tuple(tuple_list)\n",
        "print(updated_tuple)\n"
      ],
      "metadata": {
        "colab": {
          "base_uri": "https://localhost:8080/"
        },
        "id": "5-M7AhO7i765",
        "outputId": "528bef1f-6258-43fd-c552-1d2c63112ba2"
      },
      "execution_count": 24,
      "outputs": [
        {
          "output_type": "stream",
          "name": "stdout",
          "text": [
            "(1, 2, 3, 4, 5, 6)\n",
            "(1, 2, 3, 9, 4, 6)\n"
          ]
        }
      ]
    },
    {
      "cell_type": "markdown",
      "source": [
        "## 11. How would you sum the list of tuple and sum of tuple of list\n",
        "list  = [(2,3),(4,5),(6,4)]\n",
        "output= [5,9,10]\n",
        "\n",
        "tuple  =([2,3],[4,5],[6,4])\n",
        "output  =  (5,9,10)"
      ],
      "metadata": {
        "id": "Yd7tDQHuoGFm"
      }
    },
    {
      "cell_type": "code",
      "source": [
        "# List of tuples\n",
        "list_of_tuples = [(2, 3), (4, 5), (6, 4)]\n",
        "\n",
        "# Tuple of lists\n",
        "tuple_of_lists = ([2, 3], [4, 5], [6, 4])\n",
        "\n",
        "# Calculate sum for list of tuples\n",
        "sum_list = [sum(t) for t in list_of_tuples]\n",
        "\n",
        "# Calculate sum for tuple of lists\n",
        "sum_tuple = tuple(sum(lst) for lst in tuple_of_lists)\n",
        "\n",
        "# Print the results\n",
        "print(\"List of Tuples:\", list_of_tuples)\n",
        "print(\"Sum of Elements in List of Tuples:\", sum_list)\n",
        "\n",
        "print(\"\\nTuple of Lists:\", tuple_of_lists)\n",
        "print(\"Sum of Elements in Tuple of Lists:\", sum_tuple)\n"
      ],
      "metadata": {
        "colab": {
          "base_uri": "https://localhost:8080/"
        },
        "id": "_DsFb9Z2jE9g",
        "outputId": "6f2fedcb-2ee7-41c4-8c82-a38829851b1a"
      },
      "execution_count": 25,
      "outputs": [
        {
          "output_type": "stream",
          "name": "stdout",
          "text": [
            "List of Tuples: [(2, 3), (4, 5), (6, 4)]\n",
            "Sum of Elements in List of Tuples: [5, 9, 10]\n",
            "\n",
            "Tuple of Lists: ([2, 3], [4, 5], [6, 4])\n",
            "Sum of Elements in Tuple of Lists: (5, 9, 10)\n"
          ]
        }
      ]
    },
    {
      "cell_type": "markdown",
      "source": [
        "## 12. FIND THE FREQUENCY OF THE KEYS IN THE GIVEN DICTIONARY"
      ],
      "metadata": {
        "id": "YiXg_vDpoq7X"
      }
    },
    {
      "cell_type": "code",
      "source": [
        "data_dict = {'apple': 26, 'banana': 99, 'cherry': 71, 'date': 60, 'elderberry': 37}\n",
        "key_frequency = {}\n",
        "\n",
        "# Counting the frequency of each key in the given dictionary\n",
        "for current_key in data_dict:\n",
        "    if current_key in key_frequency:\n",
        "        key_frequency[current_key] += 1\n",
        "    else:\n",
        "        key_frequency[current_key] = 1\n",
        "\n",
        "# Displaying the frequency of keys\n",
        "for current_key, current_frequency in key_frequency.items():\n",
        "    print(\"Key\", current_key, \"occurs in the given dictionary\", current_frequency, \"times\")\n"
      ],
      "metadata": {
        "colab": {
          "base_uri": "https://localhost:8080/"
        },
        "id": "0Px0jyuGjyBm",
        "outputId": "fb6f57cd-88b2-4c90-c9a7-f83bbf8d3bff"
      },
      "execution_count": 26,
      "outputs": [
        {
          "output_type": "stream",
          "name": "stdout",
          "text": [
            "Key apple occurs in the given dictionary 1 times\n",
            "Key banana occurs in the given dictionary 1 times\n",
            "Key cherry occurs in the given dictionary 1 times\n",
            "Key date occurs in the given dictionary 1 times\n",
            "Key elderberry occurs in the given dictionary 1 times\n"
          ]
        }
      ]
    }
  ]
}