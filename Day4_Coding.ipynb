{
  "nbformat": 4,
  "nbformat_minor": 0,
  "metadata": {
    "colab": {
      "provenance": [],
      "collapsed_sections": [
        "uRvHq6WK1iip",
        "HrRqpK9A1mvj",
        "ZlrFrill3Bl4"
      ],
      "include_colab_link": true
    },
    "kernelspec": {
      "name": "python3",
      "display_name": "Python 3"
    },
    "language_info": {
      "name": "python"
    }
  },
  "cells": [
    {
      "cell_type": "markdown",
      "metadata": {
        "id": "view-in-github",
        "colab_type": "text"
      },
      "source": [
        "<a href=\"https://colab.research.google.com/github/Vivekkotha544/Python_Explorer/blob/main/Day4_Coding.ipynb\" target=\"_parent\"><img src=\"https://colab.research.google.com/assets/colab-badge.svg\" alt=\"Open In Colab\"/></a>"
      ]
    },
    {
      "cell_type": "markdown",
      "source": [
        "# Part ONe"
      ],
      "metadata": {
        "id": "uRvHq6WK1iip"
      }
    },
    {
      "cell_type": "markdown",
      "source": [
        "## 1. Create a function that sum only the float number from a given hetrogenous list"
      ],
      "metadata": {
        "id": "xpZzcKAyyb6V"
      }
    },
    {
      "cell_type": "code",
      "source": [
        "my_list = [25.23, 11.45, 3.2, 7.4, 8.6, 9, \"Hero\", 14.8, 8, \"4.6\"]\n",
        "result = 0\n",
        "\n",
        "for item in my_list:\n",
        "    if str(type(item)) == \"<class 'float'>\":\n",
        "        result += item\n",
        "\n",
        "print(result)\n"
      ],
      "metadata": {
        "id": "eLlEJRxTy8_f",
        "colab": {
          "base_uri": "https://localhost:8080/"
        },
        "outputId": "59c818aa-af11-4b7c-e004-28a13eb80fa6"
      },
      "execution_count": 1,
      "outputs": [
        {
          "output_type": "stream",
          "name": "stdout",
          "text": [
            "70.68\n"
          ]
        }
      ]
    },
    {
      "cell_type": "code",
      "source": [
        "# reverse the list using the loop\n",
        "for index in range(len(my_list) - 1, -1, -1):\n",
        "    print(my_list[index], end=\", \")\n"
      ],
      "metadata": {
        "id": "TO6D3KTSy9-x",
        "colab": {
          "base_uri": "https://localhost:8080/"
        },
        "outputId": "28eea6c0-41f0-4a31-b5c2-a37e3f27f064"
      },
      "execution_count": 2,
      "outputs": [
        {
          "output_type": "stream",
          "name": "stdout",
          "text": [
            "4.6, 8, 14.8, Hero, 9, 8.6, 7.4, 3.2, 11.45, 25.23, "
          ]
        }
      ]
    },
    {
      "cell_type": "markdown",
      "source": [
        "## 2. Count the total number of digit using the loop"
      ],
      "metadata": {
        "id": "MxMyCaZHzEB-"
      }
    },
    {
      "cell_type": "code",
      "source": [
        "user_input = int(input(\"Enter any number to find the number of digits: \"))\n",
        "absolute_value = abs(user_input)\n",
        "digit_count = 0\n",
        "\n",
        "while absolute_value != 0:\n",
        "    remainder = absolute_value % 10\n",
        "    digit_count += 1\n",
        "    absolute_value = absolute_value // 10\n",
        "\n",
        "print(\"Number of digits in the entered number is:\", digit_count)\n"
      ],
      "metadata": {
        "id": "DZYJiYdQzcVv",
        "colab": {
          "base_uri": "https://localhost:8080/"
        },
        "outputId": "89b15af5-6e55-46ce-e169-17e594bf259b"
      },
      "execution_count": 3,
      "outputs": [
        {
          "output_type": "stream",
          "name": "stdout",
          "text": [
            "Enter any number to find the number of digits: 1234\n",
            "Number of digits in the entered number is: 4\n"
          ]
        }
      ]
    },
    {
      "cell_type": "markdown",
      "source": [
        "## 3. Display this\n",
        "5 4 3 2 1\n",
        "\n",
        "4 3 2 1\n",
        "\n",
        "3 2 1\n",
        "\n",
        "2 1\n",
        "\n",
        "1"
      ],
      "metadata": {
        "id": "kG8Phx7VzYWD"
      }
    },
    {
      "cell_type": "code",
      "source": [
        "user_input = int(input(\"Enter any positive integer: \"))\n",
        "\n",
        "for outer_loop in range(user_input, 0, -1):\n",
        "    for inner_loop in range(outer_loop, 0, -1):\n",
        "        print(inner_loop, end=\" \")\n",
        "    print()\n"
      ],
      "metadata": {
        "colab": {
          "base_uri": "https://localhost:8080/"
        },
        "id": "mB9YT3qs8c4v",
        "outputId": "912f1288-40bb-4889-93a1-1cdfc9c6c90c"
      },
      "execution_count": 5,
      "outputs": [
        {
          "output_type": "stream",
          "name": "stdout",
          "text": [
            "Enter any positive integer: 5\n",
            "5 4 3 2 1 \n",
            "4 3 2 1 \n",
            "3 2 1 \n",
            "2 1 \n",
            "1 \n"
          ]
        }
      ]
    },
    {
      "cell_type": "markdown",
      "source": [
        "## 4. Display this"
      ],
      "metadata": {
        "id": "xTaGWpQXzy-M"
      }
    },
    {
      "cell_type": "code",
      "source": [
        "*\n",
        "* *\n",
        "* * *\n",
        "* * * *\n",
        "* * * * *\n",
        "* * * *\n",
        "* * *\n",
        "* *\n",
        "*"
      ],
      "metadata": {
        "id": "ixPmbjRfzx16"
      },
      "execution_count": null,
      "outputs": []
    },
    {
      "cell_type": "code",
      "source": [
        "user_number = int(input(\"Enter any number: \"))\n",
        "\n",
        "for i in range(user_number):\n",
        "    print('* ' * (i + 1))\n",
        "\n",
        "for j in range(user_number):\n",
        "    print('* ' * (user_number - j - 1))\n"
      ],
      "metadata": {
        "colab": {
          "base_uri": "https://localhost:8080/"
        },
        "id": "7mCOTgKv8y9w",
        "outputId": "08432494-8452-4c4d-c763-e09d06c0aa70"
      },
      "execution_count": 6,
      "outputs": [
        {
          "output_type": "stream",
          "name": "stdout",
          "text": [
            "Enter any number: 5\n",
            "* \n",
            "* * \n",
            "* * * \n",
            "* * * * \n",
            "* * * * * \n",
            "* * * * \n",
            "* * * \n",
            "* * \n",
            "* \n",
            "\n"
          ]
        }
      ]
    },
    {
      "cell_type": "markdown",
      "source": [
        "## 5. Write function that generate multiplication table upto a given range in Python"
      ],
      "metadata": {
        "id": "1OYQk9N70Ax3"
      }
    },
    {
      "cell_type": "code",
      "source": [
        "def print_multiplication_table(number, table_range):\n",
        "    for i in range(1, table_range + 1):\n",
        "        print(f\"{number} * {i} = {number * i}\")\n",
        "\n",
        "# Taking input for number and range\n",
        "user_number, user_range = map(int, input(\"Enter the number and range value: \").split())\n",
        "\n",
        "# Calling the function\n",
        "print_multiplication_table(user_number, user_range)\n"
      ],
      "metadata": {
        "id": "NeosDqO904-u",
        "colab": {
          "base_uri": "https://localhost:8080/"
        },
        "outputId": "103170eb-1cd7-41ca-a50a-65e24223f5be"
      },
      "execution_count": 8,
      "outputs": [
        {
          "output_type": "stream",
          "name": "stdout",
          "text": [
            "Enter the number and range value: 2 10\n",
            "2 * 1 = 2\n",
            "2 * 2 = 4\n",
            "2 * 3 = 6\n",
            "2 * 4 = 8\n",
            "2 * 5 = 10\n",
            "2 * 6 = 12\n",
            "2 * 7 = 14\n",
            "2 * 8 = 16\n",
            "2 * 9 = 18\n",
            "2 * 10 = 20\n"
          ]
        }
      ]
    },
    {
      "cell_type": "code",
      "source": [
        "# what are the difference between the list comprehension and loop??"
      ],
      "metadata": {
        "id": "V9z-kXUi0468"
      },
      "execution_count": null,
      "outputs": []
    },
    {
      "cell_type": "code",
      "source": [
        "# Using List Comprehension to create a list of squares\n",
        "squares_list_comprehension = [x**2 for x in range(5)]\n",
        "\n",
        "# Using a Loop to achieve the same result\n",
        "squares_loop = []\n",
        "for x in range(5):\n",
        "    squares_loop.append(x**2)\n",
        "\n",
        "# Displaying results\n",
        "print(\"List Comprehension:\", squares_list_comprehension)\n",
        "print(\"Loop:\", squares_loop)\n"
      ],
      "metadata": {
        "id": "e0eLnJqd04b2",
        "colab": {
          "base_uri": "https://localhost:8080/"
        },
        "outputId": "ba1cffe4-4223-4a3a-bbf4-00cb15cc5991"
      },
      "execution_count": 9,
      "outputs": [
        {
          "output_type": "stream",
          "name": "stdout",
          "text": [
            "List Comprehension: [0, 1, 4, 9, 16]\n",
            "Loop: [0, 1, 4, 9, 16]\n"
          ]
        }
      ]
    },
    {
      "cell_type": "markdown",
      "source": [
        "# Part two"
      ],
      "metadata": {
        "id": "HrRqpK9A1mvj"
      }
    },
    {
      "cell_type": "markdown",
      "source": [
        "## 6. Write a python program for the palindrome checker using the loop"
      ],
      "metadata": {
        "id": "T36QPuxw1pfo"
      }
    },
    {
      "cell_type": "code",
      "source": [
        "# Program to check if a number is a palindrome\n",
        "\n",
        "# Input: Taking a number from the user\n",
        "num = int(input(\"Enter any number: \"))\n",
        "\n",
        "# Initializing variables\n",
        "original_number = num\n",
        "reverse_number = 0\n",
        "\n",
        "# Reversing the digits of the number\n",
        "while num != 0:\n",
        "    remainder = num % 10\n",
        "    reverse_number = reverse_number * 10 + remainder\n",
        "    num //= 10\n",
        "\n",
        "# Checking if the reversed number is equal to the original number\n",
        "if reverse_number == original_number:\n",
        "    print(original_number, \"is a Palindrome\")\n",
        "else:\n",
        "    print(original_number, \"is not a Palindrome\")\n"
      ],
      "metadata": {
        "id": "5k_AjmF_2c6r",
        "colab": {
          "base_uri": "https://localhost:8080/"
        },
        "outputId": "28308011-39fe-432b-b944-136c61ce9d3c"
      },
      "execution_count": 10,
      "outputs": [
        {
          "output_type": "stream",
          "name": "stdout",
          "text": [
            "Enter any number: 1789\n",
            "1789 is not a Palindrome\n"
          ]
        }
      ]
    },
    {
      "cell_type": "code",
      "source": [
        "# Program to check if a number is a palindrome\n",
        "\n",
        "# Input: Taking a number from the user\n",
        "num = int(input(\"Enter any number: \"))\n",
        "\n",
        "# Initializing variables\n",
        "original_number = num\n",
        "reverse_number = 0\n",
        "\n",
        "# Reversing the digits of the number\n",
        "while num != 0:\n",
        "    remainder = num % 10\n",
        "    reverse_number = reverse_number * 10 + remainder\n",
        "    num //= 10\n",
        "\n",
        "# Checking if the reversed number is equal to the original number\n",
        "if reverse_number == original_number:\n",
        "    print(original_number, \"is a Palindrome\")\n",
        "else:\n",
        "    print(original_number, \"is not a Palindrome\")\n"
      ],
      "metadata": {
        "colab": {
          "base_uri": "https://localhost:8080/"
        },
        "id": "llss79Ur9uVt",
        "outputId": "e7ca44ea-7c70-41f7-f6fb-799178114fda"
      },
      "execution_count": 11,
      "outputs": [
        {
          "output_type": "stream",
          "name": "stdout",
          "text": [
            "Enter any number: 16461\n",
            "16461 is a Palindrome\n"
          ]
        }
      ]
    },
    {
      "cell_type": "markdown",
      "source": [
        "## 7. Factorial Calculation\n",
        "Write a program that calculates the factorial of a given number using a loop. The user should input the number, and the program should display its factorial."
      ],
      "metadata": {
        "id": "QLZ4Dc1O1zHm"
      }
    },
    {
      "cell_type": "code",
      "source": [
        "def calculate_factorial(number):\n",
        "    result = 1\n",
        "    for i in range(1, number + 1):\n",
        "        result *= i\n",
        "    return result\n",
        "\n",
        "user_input = int(input(\"Enter a number to find factorial: \"))\n",
        "print(calculate_factorial(user_input))\n"
      ],
      "metadata": {
        "id": "XJZCGK0s2LYV",
        "colab": {
          "base_uri": "https://localhost:8080/"
        },
        "outputId": "aaf4f174-6875-4568-851a-034d2dcb4158"
      },
      "execution_count": 13,
      "outputs": [
        {
          "output_type": "stream",
          "name": "stdout",
          "text": [
            "Enter a number to find factorial: 7\n",
            "5040\n"
          ]
        }
      ]
    },
    {
      "cell_type": "markdown",
      "source": [
        "## 8. Binary to Decimal Converter\n",
        "Create a program that converts a binary number (entered by the user) to its decimal equivalent. The user should input the binary number as a string, and the program should output its decimal equivalent."
      ],
      "metadata": {
        "id": "dAX_1Cgx2LtY"
      }
    },
    {
      "cell_type": "code",
      "source": [
        "binary_input = input(\"Enter a binary number: \")\n",
        "length_input = len(binary_input)\n",
        "power = length_input - 1\n",
        "decimal_result = 0\n",
        "\n",
        "for digit in binary_input:\n",
        "    if digit == '1':\n",
        "        decimal_result += 2 ** power\n",
        "        power -= 1\n",
        "    else:\n",
        "        power -= 1\n",
        "\n",
        "print(\"Decimal equivalent:\", decimal_result)\n"
      ],
      "metadata": {
        "colab": {
          "base_uri": "https://localhost:8080/"
        },
        "id": "BVu346V7-Kc4",
        "outputId": "c61c1ebd-42d2-423a-8815-68040ed9f2c4"
      },
      "execution_count": 14,
      "outputs": [
        {
          "output_type": "stream",
          "name": "stdout",
          "text": [
            "Enter a binary number: 100001\n",
            "Decimal equivalent: 33\n"
          ]
        }
      ]
    },
    {
      "cell_type": "markdown",
      "source": [
        "## 10. Matrix Transposition:\n",
        "Create a program that transposes a given matrix. The user should input the matrix as a list of lists, and the program should output the transposed matrix. For example, if the input is:"
      ],
      "metadata": {
        "id": "bhFgXCu52R3n"
      }
    },
    {
      "cell_type": "code",
      "source": [
        "mat1 = [[2, 4, 6], [8, 10, 12], [14, 16, 18]]\n",
        "\n",
        "# Original Matrix\n",
        "print(\"Original Matrix is:\")\n",
        "for i in range(len(mat1)):\n",
        "    for j in range(len(mat1[0])):\n",
        "        print(mat1[i][j], end=\" \")\n",
        "    print()\n",
        "\n",
        "# Transpose Matrix\n",
        "print(\"\\nThe Transpose matrix is:\")\n",
        "mat2 = [[0] * len(mat1) for _ in range(len(mat1[0]))]\n",
        "for i in range(len(mat2)):\n",
        "    for j in range(len(mat2[0])):\n",
        "        mat2[i][j] = mat1[j][i]\n",
        "        print(mat2[i][j], end=\" \")\n",
        "    print()\n"
      ],
      "metadata": {
        "id": "DhprwtQ02hWg",
        "colab": {
          "base_uri": "https://localhost:8080/"
        },
        "outputId": "4e8d4258-b65a-4f60-d4fc-598fb2a08c5c"
      },
      "execution_count": 15,
      "outputs": [
        {
          "output_type": "stream",
          "name": "stdout",
          "text": [
            "Original Matrix is:\n",
            "2 4 6 \n",
            "8 10 12 \n",
            "14 16 18 \n",
            "\n",
            "The Transpose matrix is:\n",
            "2 8 14 \n",
            "4 10 16 \n",
            "6 12 18 \n"
          ]
        }
      ]
    },
    {
      "cell_type": "markdown",
      "source": [
        "# Part Three File Handling\n",
        "Calm and do it slowly and in github also try to upload the files possible"
      ],
      "metadata": {
        "id": "ZlrFrill3Bl4"
      }
    },
    {
      "cell_type": "markdown",
      "source": [
        "## 11. program to open the text file and edit it\n",
        "\n",
        "---\n",
        "\n"
      ],
      "metadata": {
        "id": "-9k8YJfF3BLW"
      }
    },
    {
      "cell_type": "code",
      "source": [
        "# Mount Google Drive to access files\n",
        "from google.colab import drive\n",
        "drive.mount('/content/drive')\n",
        "\n",
        "# File path in Google Drive\n",
        "file_path = '/content/drive/MyDrive/vivek.txt'\n",
        "\n",
        "# Open file in read mode\n",
        "with open(file_path, 'r') as file:\n",
        "    # Read content\n",
        "    content = file.read()\n",
        "\n",
        "\n",
        "modified_content = content.replace(\"I'm\", \"we\")\n",
        "\n",
        "# Open file in write mode to overwrite content\n",
        "with open(file_path, 'w') as file:\n",
        "    # Write modified content back to the file\n",
        "    file.write(modified_content)\n",
        "\n",
        "print(\"File has been successfully edited.\")\n"
      ],
      "metadata": {
        "id": "Quy4F2UR3c04",
        "colab": {
          "base_uri": "https://localhost:8080/"
        },
        "outputId": "8aca0fd8-50ae-40e2-aa92-fe3caaa757e0"
      },
      "execution_count": 40,
      "outputs": [
        {
          "output_type": "stream",
          "name": "stdout",
          "text": [
            "Drive already mounted at /content/drive; to attempt to forcibly remount, call drive.mount(\"/content/drive\", force_remount=True).\n",
            "File has been successfully edited.\n"
          ]
        }
      ]
    },
    {
      "cell_type": "code",
      "source": [
        "pwd"
      ],
      "metadata": {
        "colab": {
          "base_uri": "https://localhost:8080/",
          "height": 35
        },
        "id": "I7U6_JHcSIg8",
        "outputId": "f46da5f0-bcad-49ea-c86c-b9ae4d2464f0"
      },
      "execution_count": 37,
      "outputs": [
        {
          "output_type": "execute_result",
          "data": {
            "text/plain": [
              "'/content'"
            ],
            "application/vnd.google.colaboratory.intrinsic+json": {
              "type": "string"
            }
          },
          "metadata": {},
          "execution_count": 37
        }
      ]
    },
    {
      "cell_type": "markdown",
      "source": [
        "## 12. Program to list all the file in the directory\n"
      ],
      "metadata": {
        "id": "ovYWZKNH3AH_"
      }
    },
    {
      "cell_type": "code",
      "source": [
        "import os\n",
        "\n",
        "# Get the current working directory\n",
        "current_directory = os.getcwd()\n",
        "\n",
        "# List files in the current directory\n",
        "file_list = os.listdir(current_directory)\n",
        "\n",
        "print(\"Files in the directory:\")\n",
        "print(file_list)\n"
      ],
      "metadata": {
        "id": "S260xGwo38vk",
        "colab": {
          "base_uri": "https://localhost:8080/"
        },
        "outputId": "2ebc3ca4-9595-409c-84ef-3ceab77ce087"
      },
      "execution_count": 25,
      "outputs": [
        {
          "output_type": "stream",
          "name": "stdout",
          "text": [
            "Files in the directory:\n",
            "['.config', 'drive', 'sample_data']\n"
          ]
        }
      ]
    },
    {
      "cell_type": "markdown",
      "source": [
        "## 13. program to find the name of list only the text file and only the image file specifically\n"
      ],
      "metadata": {
        "id": "pNalRqq-3mjE"
      }
    },
    {
      "cell_type": "code",
      "source": [
        "text_files_list=[]\n",
        "img_files_list=[]\n",
        "for i in file_list:\n",
        "  if 'txt' in i:\n",
        "    text_files_list.append(i)\n",
        "  elif 'jpg' in i:\n",
        "    img_files_list.append(i)\n",
        "print(\"Total files list: \",file_list)\n",
        "print(\"Text files list \",text_files_list)\n",
        "print(\"image files list \",img_files_list)"
      ],
      "metadata": {
        "colab": {
          "base_uri": "https://localhost:8080/"
        },
        "id": "TNiYDl2iIHZo",
        "outputId": "0b127018-7a79-4f4a-ea74-315fa35e27e1"
      },
      "execution_count": 26,
      "outputs": [
        {
          "output_type": "stream",
          "name": "stdout",
          "text": [
            "Total files list:  ['.config', 'drive', 'sample_data']\n",
            "Text files list  []\n",
            "image files list  []\n"
          ]
        }
      ]
    },
    {
      "cell_type": "markdown",
      "source": [
        "## 14. Program to copy the the file and also the bundle of file to the specific location"
      ],
      "metadata": {
        "id": "7xVL49o739jv"
      }
    },
    {
      "cell_type": "code",
      "source": [
        "# Mount Google Drive to access files\n",
        "from google.colab import drive\n",
        "drive.mount('/content/drive')\n",
        "\n",
        "# File path in Google Drive\n",
        "file_path = '/content/drive/MyDrive/vivek.txt'\n",
        "\n",
        "# Open vivek.txt in read mode\n",
        "with open(file_path, \"r\") as file1:\n",
        "    # Read the content of vivek.txt\n",
        "    content = file1.read()\n",
        "\n",
        "# Open kotha.txt in write mode to copy the content\n",
        "with open(\"kotha.txt\", \"w\") as file2:\n",
        "    # Write the content to kotha.txt\n",
        "    file2.write(content)\n",
        "\n",
        "# Open kotha.txt in read mode to print its content\n",
        "with open(\"kotha.txt\", \"r\") as file3:\n",
        "    print(file3.read())\n"
      ],
      "metadata": {
        "id": "rlMl6YVH4I_z",
        "colab": {
          "base_uri": "https://localhost:8080/"
        },
        "outputId": "68bfd343-0e78-42db-b087-fe08f8acac05"
      },
      "execution_count": 41,
      "outputs": [
        {
          "output_type": "stream",
          "name": "stdout",
          "text": [
            "Drive already mounted at /content/drive; to attempt to forcibly remount, call drive.mount(\"/content/drive\", force_remount=True).\n",
            "Hello World, we Watching new rightnow !!!!\n",
            "\n"
          ]
        }
      ]
    },
    {
      "cell_type": "markdown",
      "source": [
        "## 15. Program to delete the specific file and folder"
      ],
      "metadata": {
        "id": "rzaMo5ZT4E7R"
      }
    },
    {
      "cell_type": "code",
      "source": [
        "print(file_list)"
      ],
      "metadata": {
        "id": "Gpw4a5194oaa",
        "colab": {
          "base_uri": "https://localhost:8080/"
        },
        "outputId": "69ee3ae2-fba9-4ecf-ba5a-54157a6f3b04"
      },
      "execution_count": 32,
      "outputs": [
        {
          "output_type": "stream",
          "name": "stdout",
          "text": [
            "['.config', 'drive', 'sample_data']\n"
          ]
        }
      ]
    },
    {
      "cell_type": "markdown",
      "source": [],
      "metadata": {
        "id": "O2PS1zXT4pF5"
      }
    },
    {
      "cell_type": "code",
      "source": [
        "import os\n",
        "\n",
        "file_path = '/content/drive/MyDrive/kotha.txt'\n",
        "\n",
        "# Remove the file\n",
        "os.remove(file_path)\n",
        "\n",
        "# Print the list of files in the directory\n",
        "print(\"Successfully Deleted\")\n"
      ],
      "metadata": {
        "colab": {
          "base_uri": "https://localhost:8080/"
        },
        "id": "701pb5-CNHu5",
        "outputId": "9422a180-e4aa-4249-840f-ec911d2d803f"
      },
      "execution_count": 44,
      "outputs": [
        {
          "output_type": "stream",
          "name": "stdout",
          "text": [
            "Successfully Deleted\n"
          ]
        }
      ]
    },
    {
      "cell_type": "code",
      "source": [],
      "metadata": {
        "id": "_F22jVI1Tqgx"
      },
      "execution_count": null,
      "outputs": []
    }
  ]
}