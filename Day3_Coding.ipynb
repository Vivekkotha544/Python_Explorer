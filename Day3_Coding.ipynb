{
  "nbformat": 4,
  "nbformat_minor": 0,
  "metadata": {
    "colab": {
      "provenance": [],
      "include_colab_link": true
    },
    "kernelspec": {
      "name": "python3",
      "display_name": "Python 3"
    },
    "language_info": {
      "name": "python"
    }
  },
  "cells": [
    {
      "cell_type": "markdown",
      "metadata": {
        "id": "view-in-github",
        "colab_type": "text"
      },
      "source": [
        "<a href=\"https://colab.research.google.com/github/Vivekkotha544/Python_Explorer/blob/main/Day3_Coding.ipynb\" target=\"_parent\"><img src=\"https://colab.research.google.com/assets/colab-badge.svg\" alt=\"Open In Colab\"/></a>"
      ]
    },
    {
      "cell_type": "markdown",
      "source": [],
      "metadata": {
        "id": "KZ91_NegViLz"
      }
    },
    {
      "cell_type": "markdown",
      "source": [
        "## problem 1\n",
        "Create a dictionary where the keys correspond to the area of a flat adn value for each is the price of the house for 10 flat in kompally"
      ],
      "metadata": {
        "id": "B1Fhdmi9V3LI"
      }
    },
    {
      "cell_type": "code",
      "source": [
        "# Dictionary of house area and house prices of 10 houses in\n",
        "# Dictionary of house area and house prices of 10 houses\n",
        "# Hint: area_price = {house_name: {'Area': area_value, 'Price': price_value}}\n",
        "house_data = {\n",
        "    'House1': {'Area': 950, 'Price': 95000},\n",
        "    'House2': {'Area': 1100, 'Price': 110000},\n",
        "    'House3': {'Area': 800, 'Price': 80000},\n",
        "    'House4': {'Area': 1300, 'Price': 130000},\n",
        "    'House5': {'Area': 700, 'Price': 70000},\n",
        "    'House6': {'Area': 1000, 'Price': 100000},\n",
        "    'House7': {'Area': 1200, 'Price': 120000},\n",
        "    'House8': {'Area': 850, 'Price': 85000},\n",
        "    'House9': {'Area': 1050, 'Price': 105000},\n",
        "    'House10': {'Area': 1250, 'Price': 125000}\n",
        "}\n",
        "\n",
        "# Displaying the house details\n",
        "for house_name, details in house_data.items():\n",
        "    print(f\"{house_name} - Area: {details['Area']} sq. ft, Price: ${details['Price']}\")\n"
      ],
      "metadata": {
        "id": "zihWmw3NWXQX",
        "colab": {
          "base_uri": "https://localhost:8080/"
        },
        "outputId": "9dbf0ecd-80cd-4589-95b9-523f3fb27372"
      },
      "execution_count": 1,
      "outputs": [
        {
          "output_type": "stream",
          "name": "stdout",
          "text": [
            "House1 - Area: 950 sq. ft, Price: $95000\n",
            "House2 - Area: 1100 sq. ft, Price: $110000\n",
            "House3 - Area: 800 sq. ft, Price: $80000\n",
            "House4 - Area: 1300 sq. ft, Price: $130000\n",
            "House5 - Area: 700 sq. ft, Price: $70000\n",
            "House6 - Area: 1000 sq. ft, Price: $100000\n",
            "House7 - Area: 1200 sq. ft, Price: $120000\n",
            "House8 - Area: 850 sq. ft, Price: $85000\n",
            "House9 - Area: 1050 sq. ft, Price: $105000\n",
            "House10 - Area: 1250 sq. ft, Price: $125000\n"
          ]
        }
      ]
    },
    {
      "cell_type": "markdown",
      "source": [
        "### Now broker predicts the price as can be written as : <b><code>predicted_price(area) = 0.06*area + 15</code></b>"
      ],
      "metadata": {
        "id": "JI2jaDf8Wp2D"
      }
    },
    {
      "cell_type": "markdown",
      "source": [
        "Using the concept of list comprehension,create a list of predicted flat price using the above formula\n"
      ],
      "metadata": {
        "id": "v_K_Z8dtW6-D"
      }
    },
    {
      "cell_type": "code",
      "source": [
        "# Create a list of house areas\n",
        "house_area_list = [950, 1100, 800, 1300, 700, 1000, 1200, 850, 1050, 1250]\n",
        "\n",
        "# Use list comprehension to store the predicted house prices in a list\n",
        "predicted_price_list = [0.08 * area + 25 for area in house_area_list]\n",
        "\n",
        "# Print the list of predicted flat prices\n",
        "print(\"Predicted Price List:\", predicted_price_list)\n"
      ],
      "metadata": {
        "id": "F732P6DHXVYH",
        "colab": {
          "base_uri": "https://localhost:8080/"
        },
        "outputId": "d5539e35-2f2e-4ed5-caf9-dbf09871126d"
      },
      "execution_count": 2,
      "outputs": [
        {
          "output_type": "stream",
          "name": "stdout",
          "text": [
            "Predicted Price List: [101.0, 113.0, 89.0, 129.0, 81.0, 105.0, 121.0, 93.0, 109.0, 125.0]\n"
          ]
        }
      ]
    },
    {
      "cell_type": "markdown",
      "source": [
        "## Create another list which contains the squares of differences of each element of the two price lists : the actual prices and the predicted prices\n"
      ],
      "metadata": {
        "id": "-ZrRO78DXZq6"
      }
    },
    {
      "cell_type": "code",
      "source": [
        "# Actual list of house prices\n",
        "actual_list = [110, 210, 230, 310]\n",
        "\n",
        "# Predicted list of house prices\n",
        "predicted_list = [80, 92, 77, 110]\n",
        "\n",
        "# Calculate the squared difference between actual and predicted prices\n",
        "squared_difference_list = [(actual ** 2 - predicted ** 2) for actual, predicted in zip(actual_list, predicted_list)]\n",
        "\n",
        "# Print the list of squared differences\n",
        "print(\"Squared Difference List:\", squared_difference_list)\n"
      ],
      "metadata": {
        "id": "dEpxZqK7XzeD"
      },
      "execution_count": null,
      "outputs": []
    },
    {
      "cell_type": "markdown",
      "source": [
        "## <u> Problem 2</u>\n",
        "\n",
        "## A sigmoid function is a mathematical function having a characteristic \"S\"-shaped curve or sigmoid curve. A common example of a sigmoid function is the logistic function shown in the first figure and defined by the formula:\n",
        "\n",
        "$$ h(x) =  \\frac{\\mathrm{1} }{\\mathrm{1} + e^{-x} }  $$\n",
        "\n",
        "\n",
        "## Range is defined as all the possible values which the function $h(x)$ can take. Domain is defined as all the possible values which $x$ can take. In this case, range of the function is between 0 to 1 and the domain of the function is all real numbers"
      ],
      "metadata": {
        "id": "PEC_OtXRXrCg"
      }
    },
    {
      "cell_type": "markdown",
      "source": [
        "### You are given a list of values of $x$. You need to use list comprehension to calculate the corresponding transformation according to the sigmoid function defined above"
      ],
      "metadata": {
        "id": "YZCTres_XsB0"
      }
    },
    {
      "cell_type": "code",
      "source": [
        "# Return a list of boolean values if the sigmoid_of_x is greater than or equal to 0 and less than or equal to 1\n",
        "import math\n",
        "\n",
        "# Original list of numbers\n",
        "original_numbers = [0.5, 1.0, 1.5, 2.0, 2.5, 3.0]\n",
        "\n",
        "# Calculate sigmoid function values for each number in the original list\n",
        "sigmoid_values = [1 / (1 + math.exp(-x)) for x in original_numbers]\n",
        "\n",
        "print(\"Original List:\", original_numbers)\n",
        "print(\"Sigmoid Function Values:\", sigmoid_values)\n",
        "\n",
        "# Create a list of boolean values for sigmoid values greater than 0.5\n",
        "boolean_values = [value > 0.5 for value in sigmoid_values]\n",
        "\n",
        "print(\"Boolean Values (Sigmoid > 0.5):\", boolean_values)\n"
      ],
      "metadata": {
        "id": "TmYb4SluYC4S",
        "colab": {
          "base_uri": "https://localhost:8080/"
        },
        "outputId": "76169e7e-913d-43ec-9c57-647bef73d0c1"
      },
      "execution_count": 3,
      "outputs": [
        {
          "output_type": "stream",
          "name": "stdout",
          "text": [
            "Original List: [0.5, 1.0, 1.5, 2.0, 2.5, 3.0]\n",
            "Sigmoid Function Values: [0.6224593312018546, 0.7310585786300049, 0.8175744761936437, 0.8807970779778823, 0.9241418199787566, 0.9525741268224334]\n",
            "Boolean Values (Sigmoid > 0.5): [True, True, True, True, True, True]\n"
          ]
        }
      ]
    },
    {
      "cell_type": "markdown",
      "source": [
        "# <u> Problem 3</u>\n",
        "\n",
        "## You are given a sentence : <code>\"I have been walking and running and dancing and smiling and laughing all my life, yet it all seems pointless. So i stoped thinking and started doing\"</code>\n",
        "\n",
        "## You are required to extract all those words from this sentence in a list which ends with <code>ing</code>"
      ],
      "metadata": {
        "id": "j31JnVUtYNU-"
      }
    },
    {
      "cell_type": "code",
      "source": [
        "# Your sentence\n",
        "my_sentence = \"I have been walking and running and dancing and smiling and laughing all my life, yet it all seems pointless. So I stopped thinking and started doing\"\n",
        "start_index = 0\n",
        "result_list = []\n",
        "\n",
        "for i in range(len(my_sentence)):\n",
        "    if my_sentence[i] == \" \":\n",
        "        if \"ing\" in my_sentence[start_index:i]:\n",
        "            result_list.append(my_sentence[start_index:i])\n",
        "        start_index = i\n",
        "\n",
        "if my_sentence[start_index] == \" \":\n",
        "    if \"ing\" in my_sentence[start_index:len(my_sentence)]:\n",
        "        result_list.append(my_sentence[start_index:len(my_sentence)])\n",
        "\n",
        "print(\"List is:\", result_list)\n"
      ],
      "metadata": {
        "id": "8s6rFnH2YO1z",
        "colab": {
          "base_uri": "https://localhost:8080/"
        },
        "outputId": "16ad25a0-4e92-46cd-9190-e86f1751c992"
      },
      "execution_count": 4,
      "outputs": [
        {
          "output_type": "stream",
          "name": "stdout",
          "text": [
            "List is: [' walking', ' running', ' dancing', ' smiling', ' laughing', ' thinking', ' doing']\n"
          ]
        }
      ]
    },
    {
      "cell_type": "markdown",
      "source": [
        "# <u> Problem 4</u>\n",
        "\n",
        "#### Natural Language Processing or NLP is one of the most promising fields in Machine Learning. Most of the times in NLP we deal with the textual data (a bunch of strings). Sometimes when we are processing the text, it is a common practice to get rid of some set of stop words from our original text. By default stop words are very common words used in English language such as and, or, punctuations etc.\n",
        "\n",
        "#### In this exercise, you are provided with a default set of stop words and you need to add some extra set of custom words and remove these words from the given sentence and obtain the sentence without the stop words"
      ],
      "metadata": {
        "id": "rYwInhGlYOyz"
      }
    },
    {
      "cell_type": "code",
      "source": [
        "# A sample sentence\n",
        "k = \"Sometimes when we are processing the text, it is a common practice to get rid of some set of stop words from our original text. By default stop words are very common words used in English language such as and, or, punctuations\"\n",
        "# Print your sentence"
      ],
      "metadata": {
        "id": "b86yHqHEYOpp"
      },
      "execution_count": 5,
      "outputs": []
    },
    {
      "cell_type": "code",
      "source": [
        "# Default set of stop words\n",
        "stop_words = {\"i\", \"me\", \"my\", \"myself\", \"we\", \"our\", \"ours\", \"ourselves\", \"you\", \"your\", \"yours\", \"yourself\",\n",
        "              \"yourselves\", \"he\", \"him\", \"his\", \"himself\", \"she\", \"her\", \"hers\", \"herself\", \"it\", \"its\", \"itself\",\n",
        "              \"they\", \"them\", \"their\", \"theirs\", \"themselves\", \"what\", \"which\", \"who\", \"whom\", \"this\", \"that\",\n",
        "              \"these\", \"those\", \"am\", \"is\", \"are\", \"was\", \"were\", \"be\", \"been\", \"being\", \"have\", \"has\", \"had\",\n",
        "              \"having\", \"do\", \"does\", \"did\", \"doing\", \"a\", \"an\", \"the\", \"and\", \"but\", \"if\", \"or\", \"because\",\n",
        "              \"as\", \"until\", \"while\", \"of\", \"at\", \"by\", \"for\", \"with\", \"about\", \"against\", \"between\", \"into\",\n",
        "              \"through\", \"during\", \"before\", \"after\", \"above\", \"below\", \"to\", \"from\", \"up\", \"down\", \"in\", \"out\",\n",
        "              \"on\", \"off\", \"over\", \"under\", \"again\", \"further\", \"then\", \"once\", \"here\", \"there\", \"when\", \"where\",\n",
        "              \"why\", \"how\", \"all\", \"any\", \"both\", \"each\", \"few\", \"more\", \"most\", \"other\", \"some\", \"such\", \"no\",\n",
        "              \"nor\", \"not\", \"only\", \"own\", \"same\", \"so\", \"than\", \"too\", \"very\", \"s\", \"t\", \"can\", \"will\", \"just\",\n",
        "              \"don\", \"should\", \"now\"}"
      ],
      "metadata": {
        "id": "RbyJscXWYh0z"
      },
      "execution_count": 6,
      "outputs": []
    },
    {
      "cell_type": "code",
      "source": [
        "\n",
        "custom_stop_words = [\"hello\",\"folks\",\"good\",\"morning\",\"half\",\"year\"]\n",
        "# Update the set of stop words by adding the custom stop words\n",
        "d=set(custom_stop_words)\n",
        "all=d | stop_words"
      ],
      "metadata": {
        "id": "JCZ3mWDEYplT"
      },
      "execution_count": 7,
      "outputs": []
    },
    {
      "cell_type": "code",
      "source": [
        "# Create the list of words in the given sentence.\n",
        "l=k.split()"
      ],
      "metadata": {
        "id": "OG_iCUm9Yyx3"
      },
      "execution_count": 8,
      "outputs": []
    },
    {
      "cell_type": "code",
      "source": [
        "# Use list comprehension to remove the set of updated stop words from the list of words\n",
        "out=[i for i in l if i not in all]"
      ],
      "metadata": {
        "id": "Kk665UtXY3UH"
      },
      "execution_count": 9,
      "outputs": []
    },
    {
      "cell_type": "code",
      "source": [
        "# Finally using the join() method, get the sentence without the stop words. Keep in mind that every word in the sentence will be separated by space\n",
        "result=\" \".join(out)\n",
        "# Print the modified sentence\n",
        "print(result)"
      ],
      "metadata": {
        "id": "RzO-jDZVY6wD",
        "colab": {
          "base_uri": "https://localhost:8080/"
        },
        "outputId": "7a7158d0-698a-46af-e9a8-b6d90040831f"
      },
      "execution_count": 10,
      "outputs": [
        {
          "output_type": "stream",
          "name": "stdout",
          "text": [
            "Sometimes processing text, common practice get rid set stop words original text. By default stop words common words used English language and, or, punctuations\n"
          ]
        }
      ]
    }
  ]
}