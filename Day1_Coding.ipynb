{
  "nbformat": 4,
  "nbformat_minor": 0,
  "metadata": {
    "colab": {
      "provenance": [],
      "include_colab_link": true
    },
    "kernelspec": {
      "name": "python3",
      "display_name": "Python 3"
    },
    "language_info": {
      "name": "python"
    }
  },
  "cells": [
    {
      "cell_type": "markdown",
      "metadata": {
        "id": "view-in-github",
        "colab_type": "text"
      },
      "source": [
        "<a href=\"https://colab.research.google.com/github/Vivekkotha544/Python_Explorer/blob/main/Day1_Coding.ipynb\" target=\"_parent\"><img src=\"https://colab.research.google.com/assets/colab-badge.svg\" alt=\"Open In Colab\"/></a>"
      ]
    },
    {
      "cell_type": "markdown",
      "source": [
        "## how would you confimm that two strings have the same identity?\n",
        "\n",
        "\n",
        "\n"
      ],
      "metadata": {
        "id": "eh5Ph74_HqpD"
      }
    },
    {
      "cell_type": "code",
      "source": [
        "#Test Case 1\n",
        "string_num1 = \"Hello\"\n",
        "string_num2 = \"Hello\"\n",
        "\n",
        "if string_num1 is string_num2:\n",
        "  print(\"The two strings have the same identity.\")\n",
        "else:\n",
        "  print(\"The two strings do not have the same identity.\")"
      ],
      "metadata": {
        "id": "zIobT8sES5rS",
        "colab": {
          "base_uri": "https://localhost:8080/"
        },
        "outputId": "e3d5972c-78d9-42cb-c691-d96ec9247b4f"
      },
      "execution_count": 2,
      "outputs": [
        {
          "output_type": "stream",
          "name": "stdout",
          "text": [
            "The two strings have the same identity.\n"
          ]
        }
      ]
    },
    {
      "cell_type": "code",
      "source": [
        "#Test Case 2\n",
        "string_num1 = \"Hello I'm Vivek\"\n",
        "string_num2 = \"Hello I'm Vivek\"\n",
        "\n",
        "if string_num1 is string_num2:\n",
        "  print(\"The two strings have the same identity.\")\n",
        "else:\n",
        "  print(\"The two strings do not have the same identity.\")\n"
      ],
      "metadata": {
        "colab": {
          "base_uri": "https://localhost:8080/"
        },
        "id": "nMqjvRu_osxM",
        "outputId": "4e5a9854-0f49-487e-f2de-e2ed4f682e51"
      },
      "execution_count": 3,
      "outputs": [
        {
          "output_type": "stream",
          "name": "stdout",
          "text": [
            "The two strings do not have the same identity.\n"
          ]
        }
      ]
    },
    {
      "cell_type": "markdown",
      "source": [
        "## How to find the length and index of the string?\n",
        "\n",
        "\n",
        "\n"
      ],
      "metadata": {
        "id": "duytPz1XIvDx"
      }
    },
    {
      "cell_type": "code",
      "source": [
        "x = \"Soon after it\"\n",
        "\n",
        "# To Find the length of a string\n",
        "x_lenght = len(x)\n",
        "print(\"Length of the string:\",x_lenght)\n",
        "\n",
        "# To Find the index of a string\n",
        "sub_x = \"after\"\n",
        "index_of_sub_x = x.find(sub_x)\n",
        "print(\"index of the sub string is : \" +str(index_of_sub_x)) # if we don't use str then TypeError: can only concatenate str (not \"int\") to str"
      ],
      "metadata": {
        "id": "cuEJ9hZ_S4df",
        "colab": {
          "base_uri": "https://localhost:8080/"
        },
        "outputId": "a8f91d02-0486-4301-b476-ef08af6950eb"
      },
      "execution_count": null,
      "outputs": [
        {
          "output_type": "stream",
          "name": "stdout",
          "text": [
            "Length of the string: 13\n",
            "index of the sub string is : 5\n"
          ]
        }
      ]
    },
    {
      "cell_type": "markdown",
      "source": [
        "## how to check a string contain a specific substring"
      ],
      "metadata": {
        "id": "EGK-LzalIO_i"
      }
    },
    {
      "cell_type": "code",
      "source": [
        "the_string = \"Hello, World!\"\n",
        "substring = \"World\"\n",
        "\n",
        "#Using conditional statements to check the conditions\n",
        "if substring in the_string:\n",
        "    print(f\"The string contains the substring '{substring}'\")\n",
        "else:\n",
        "    print(f\"The string does not contain the substring '{substring}'\")\n",
        "#The above code is for better understanding"
      ],
      "metadata": {
        "id": "g1HYIC9gJ7Vi",
        "colab": {
          "base_uri": "https://localhost:8080/"
        },
        "outputId": "1e50039c-ab64-4e3f-a27c-130408f27a7e"
      },
      "execution_count": null,
      "outputs": [
        {
          "output_type": "stream",
          "name": "stdout",
          "text": [
            "The string contains the substring 'World'\n"
          ]
        }
      ]
    },
    {
      "cell_type": "code",
      "source": [
        "#Second Method\n",
        "the_string= 'Vivek Vardhan Reddy'\n",
        "'Vardhan' in the_string #True Case"
      ],
      "metadata": {
        "colab": {
          "base_uri": "https://localhost:8080/"
        },
        "id": "c9AxiJoXr4ao",
        "outputId": "1adf8eca-bbf7-4368-d3e9-6db58e1ae9d1"
      },
      "execution_count": 8,
      "outputs": [
        {
          "output_type": "execute_result",
          "data": {
            "text/plain": [
              "True"
            ]
          },
          "metadata": {},
          "execution_count": 8
        }
      ]
    },
    {
      "cell_type": "code",
      "source": [
        "the_string= 'Vivek Vardhan Reddy'\n",
        "'Kotha' in the_string #False Case"
      ],
      "metadata": {
        "colab": {
          "base_uri": "https://localhost:8080/"
        },
        "id": "0P5RjaIo3Sie",
        "outputId": "afd92caf-693e-406f-a668-642933dbe177"
      },
      "execution_count": 9,
      "outputs": [
        {
          "output_type": "execute_result",
          "data": {
            "text/plain": [
              "False"
            ]
          },
          "metadata": {},
          "execution_count": 9
        }
      ]
    },
    {
      "cell_type": "markdown",
      "source": [
        "## how to a take a string from backward with two step difference?\n"
      ],
      "metadata": {
        "id": "LmY6RXjoJF9h"
      }
    },
    {
      "cell_type": "code",
      "source": [
        "#Taking a string\n",
        "the_string = \"Vivek\"\n",
        "\n",
        "#Applying String Slicing\n",
        "result = the_string[::-2]\n",
        "\n",
        "print(\"Original string:\", the_string)\n",
        "print(\"Result string (backward with two-step difference):\", result)\n"
      ],
      "metadata": {
        "id": "_C_pqVqBJ8AA",
        "colab": {
          "base_uri": "https://localhost:8080/"
        },
        "outputId": "9fbee700-4aec-4d35-f218-412132fe4c98"
      },
      "execution_count": null,
      "outputs": [
        {
          "output_type": "stream",
          "name": "stdout",
          "text": [
            "Original string: Vivek\n",
            "Result string (backward with two-step difference): kvV\n"
          ]
        }
      ]
    },
    {
      "cell_type": "markdown",
      "source": [
        "## how to find the index of the last element"
      ],
      "metadata": {
        "id": "7eg6JfyuJr_2"
      }
    },
    {
      "cell_type": "code",
      "source": [
        "the_string = \"Hello, Everyone\"\n",
        "\n",
        "# Finding the last element of the string and it's index value\n",
        "last_index = len(the_string) - 1\n",
        "last_element = the_string[last_index]\n",
        "\n",
        "print(\"Last element:\", last_element)\n",
        "print(\"Index of the last element:\", last_index)\n"
      ],
      "metadata": {
        "id": "T84ODp77J8zR",
        "colab": {
          "base_uri": "https://localhost:8080/"
        },
        "outputId": "a55bbed9-068c-4326-85f8-340d834aecd3"
      },
      "execution_count": null,
      "outputs": [
        {
          "output_type": "stream",
          "name": "stdout",
          "text": [
            "Last element: e\n",
            "Index of the last element: 14\n"
          ]
        }
      ]
    },
    {
      "cell_type": "markdown",
      "source": [
        "## Write 2 ways to concatinate the string"
      ],
      "metadata": {
        "id": "FTdxvLc1J0lv"
      }
    },
    {
      "cell_type": "code",
      "source": [
        "# First Way [Using F-strings]\n",
        "string_1 = input(\"Enter the first string: \")\n",
        "string_2 = input(\"Enter the second string: \")\n",
        "result = f'My name is {string_1} and I am {string_2} years old.'\n",
        "print(result)\n"
      ],
      "metadata": {
        "id": "j8P9ODeTJ9Zz",
        "colab": {
          "base_uri": "https://localhost:8080/"
        },
        "outputId": "2c4e811a-124a-4e4b-c1cb-f22ce2d8d418"
      },
      "execution_count": null,
      "outputs": [
        {
          "output_type": "stream",
          "name": "stdout",
          "text": [
            "Enter the first string: Vivek\n",
            "Enter the second string: 21\n",
            "My name is Vivek and I am 21 years old.\n"
          ]
        }
      ]
    },
    {
      "cell_type": "code",
      "source": [
        "# Second Way [Using '+' operator]\n",
        "string_1 = input(\"Enter the first string: \")\n",
        "string_2 = input(\"Enter the second string: \")\n",
        "result = 'My name is ' + string_1 + ' and I am ' + string_2 + ' years old.'\n",
        "print(result)\n"
      ],
      "metadata": {
        "colab": {
          "base_uri": "https://localhost:8080/"
        },
        "id": "7WXEgOk3pGRu",
        "outputId": "b3e97214-2a66-44b9-9bf5-881e59c5f942"
      },
      "execution_count": null,
      "outputs": [
        {
          "output_type": "stream",
          "name": "stdout",
          "text": [
            "Enter the first string: Vivek \n",
            "Enter the second string: 21\n",
            "My name is Vivek  and I am 21 years old.\n"
          ]
        }
      ]
    },
    {
      "cell_type": "code",
      "source": [],
      "metadata": {
        "id": "7XGovorxwvjQ"
      },
      "execution_count": null,
      "outputs": []
    }
  ]
}